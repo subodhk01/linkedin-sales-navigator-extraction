{
 "cells": [
  {
   "cell_type": "code",
   "execution_count": 4,
   "metadata": {},
   "outputs": [
    {
     "name": "stderr",
     "output_type": "stream",
     "text": [
      "/Users/subodhk/Desktop/LinkedIn-Scrapping/venv/lib/python3.9/site-packages/environ/environ.py:639: UserWarning: /var/folders/t5/39m7s5ds4v7bw3xj7r71grgw0000gp/T/ipykernel_47102/.env doesn't exist - if you're not configuring your environment separately, create one.\n",
      "  warnings.warn(\n"
     ]
    }
   ],
   "source": [
    "from selenium import webdriver\n",
    "from bs4 import BeautifulSoup\n",
    "from selenium import webdriver \n",
    "from selenium.webdriver.common.by import By\n",
    "\n",
    "import time, csv, os, environ\n",
    "\n",
    "# Loading .env file\n",
    "env = environ.Env()\n",
    "env.read_env()\n",
    "\n",
    "# lower is faster\n",
    "WAITING_RATIO=0.5 \n",
    "\n",
    "# CSV Writer\n",
    "field_names = ['name', 'title', 'company','link']\n",
    "def write_to_csv(data):    \n",
    "    with open('ireland_directors.csv', 'a', newline='', encoding=\"utf-8\") as csvfile:\n",
    "        writer = csv.DictWriter(csvfile, fieldnames = field_names)\n",
    "        writer.writerows(data)\n"
   ]
  },
  {
   "cell_type": "code",
   "execution_count": 5,
   "metadata": {},
   "outputs": [
    {
     "name": "stderr",
     "output_type": "stream",
     "text": [
      "/var/folders/t5/39m7s5ds4v7bw3xj7r71grgw0000gp/T/ipykernel_47102/4214832483.py:10: DeprecationWarning: executable_path has been deprecated, please pass in a Service object\n",
      "  browser= webdriver.Chrome('/Users/kanis/bin/chromedriver',options=opts)\n"
     ]
    }
   ],
   "source": [
    "# LinkedIn Sales Navigator Login\n",
    "\n",
    "sales_url = \"https://www.linkedin.com/sales/login\"\n",
    "opts = webdriver.ChromeOptions()\n",
    "# opts.add_argument(\"--headless\")     \n",
    "opts.add_argument(\"--no-sandbox\")\n",
    "opts.add_argument(\"--disable-dev-shm-usage\")\n",
    "opts.add_argument(\"--window-size=1920x1080\")\n",
    "opts.add_argument(\"start-maximised\")\n",
    "browser= webdriver.Chrome('/Users/kanis/bin/chromedriver',options=opts)\n",
    "browser.get(sales_url)\n",
    "\n",
    "# Waiting for page to load\n",
    "time.sleep(1)\n",
    "\n",
    "# Switching to iframe\n",
    "frame = browser.find_element(By.TAG_NAME, \"iframe\")\n",
    "browser.switch_to.frame(frame)\n",
    "\n",
    "# Entering Login Credentials\n",
    "elem_username = browser.find_element(\"id\",\"username\")\n",
    "elem_username.send_keys(os.environ['LINKEDIN_USERNAME'])\n",
    "elem_psswd = browser.find_element(\"id\",\"password\")\n",
    "elem_psswd.send_keys(os.environ['LINKEDIN_PASSWORD'])\n",
    "\n",
    "# Submit login form\n",
    "log_in_button=browser.find_element('xpath','//*[@type=\"submit\"]')\n",
    "log_in_button.click()"
   ]
  },
  {
   "cell_type": "code",
   "execution_count": 6,
   "metadata": {},
   "outputs": [
    {
     "name": "stdout",
     "output_type": "stream",
     "text": [
      "Input URL:  https://www.linkedin.com/sales/search/people?savedSearchId=50568173\n"
     ]
    }
   ],
   "source": [
    "input_url = input(\"Enter the url: \").strip()\n",
    "print(\"Input URL: \", str(input_url))\n",
    "browser.get(input_url)"
   ]
  },
  {
   "cell_type": "code",
   "execution_count": 7,
   "metadata": {},
   "outputs": [
    {
     "name": "stdout",
     "output_type": "stream",
     "text": [
      "End of scrolling\n",
      "Page 0 done\n",
      "End of scrolling\n",
      "Page 1 done\n",
      "End of scrolling\n",
      "Page 2 done\n",
      "End of scrolling\n",
      "Page 3 done\n"
     ]
    }
   ],
   "source": [
    "\n",
    "number_of_pages = int(input(\"Enter the number of pages you want to extract: \"))\n",
    "\n",
    "for i in range(number_of_pages):\n",
    "    extracted_data = []\n",
    "    time.sleep(5)\n",
    "    start = time.time()\n",
    "    initialScroll = 0\n",
    "    finalScroll = 500\n",
    "    while True:\n",
    "        try:\n",
    "            browser.execute_script(f\"document.getElementById('search-results-container').scroll({initialScroll},{finalScroll})\")\n",
    "            initialScroll = finalScroll\n",
    "            finalScroll += 500\n",
    "            time.sleep(2*WAITING_RATIO)\n",
    "            end = time.time()\n",
    "            if round(end - start) > 15:\n",
    "                print(\"End of scrolling\")\n",
    "                break\n",
    "        except:\n",
    "            print(\"Error in scrolling\")\n",
    "\n",
    "    src = browser.page_source\n",
    "    soup_data = BeautifulSoup(src, 'lxml')\n",
    "    ol_list = soup_data.find('ol', {'class': 'artdeco-list background-color-white _border-search-results_1igybl'})\n",
    "    li_list = ol_list.find_all('li', {'class': 'artdeco-list__item pl3 pv3'})\n",
    "    \n",
    "    for item in li_list:\n",
    "        name = item.find('span', {'data-anonymize': 'person-name'})\n",
    "        title = item.find('span', {'data-anonymize': 'title'})\n",
    "        company_name = item.find('a', {'class': 'ember-view t-black--light t-bold inline-block'})\n",
    "        lead_url = item.find('a', {'class': 'ember-view'})\n",
    "        try:\n",
    "            data_item={}\n",
    "            data_item[\"name\"] = name.text.strip() if name else \"\"\n",
    "            data_item[\"title\"] = title.text.strip() if title else \"\"\n",
    "            data_item[\"company\"] = company_name.text.strip()  if company_name else \"\"\n",
    "            data_item[\"link\"]=  lead_url['href'] if lead_url else \"\"\n",
    "\n",
    "            extracted_data.append(data_item)\n",
    "        except Exception as e:\n",
    "            print(\"Data not found for item: \", item)\n",
    "            print(\"Error: \", e)\n",
    "        \n",
    "    write_to_csv(extracted_data)\n",
    "    print(f\"Page {i+1} done\")\n",
    "\n",
    "    next_button = browser.find_elements(By.CSS_SELECTOR,\"[aria-label='Next']\")\n",
    "    if next_button[0].is_enabled():\n",
    "        next_button[0].click()\n",
    "    else:\n",
    "        print(\"No more pages\")\n",
    "        break\n",
    "    time.sleep(1*WAITING_RATIO)\n",
    "    "
   ]
  },
  {
   "cell_type": "code",
   "execution_count": null,
   "metadata": {},
   "outputs": [],
   "source": []
  }
 ],
 "metadata": {
  "kernelspec": {
   "display_name": "venv",
   "language": "python",
   "name": "python3"
  },
  "language_info": {
   "codemirror_mode": {
    "name": "ipython",
    "version": 3
   },
   "file_extension": ".py",
   "mimetype": "text/x-python",
   "name": "python",
   "nbconvert_exporter": "python",
   "pygments_lexer": "ipython3",
   "version": "3.9.6"
  },
  "orig_nbformat": 4,
  "vscode": {
   "interpreter": {
    "hash": "a2e75ff62878447a7e15c149bbdf599d59505079876fd8e3987dada400a857cb"
   }
  }
 },
 "nbformat": 4,
 "nbformat_minor": 2
}
